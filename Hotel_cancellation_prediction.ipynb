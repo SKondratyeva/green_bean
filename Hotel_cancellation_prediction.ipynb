{
 "cells": [
  {
   "cell_type": "markdown",
   "metadata": {},
   "source": [
    "# Predicting hotel cancellation\n",
    "The main goal of this project is to come up with a model that helps to predict if a person will cancel his/her booking. A good model would help to forecast revenue quite precisely and will allow to plan actions to prevent loosing potential earnings."
   ]
  },
  {
   "cell_type": "code",
   "execution_count": 614,
   "metadata": {},
   "outputs": [],
   "source": [
    "#imporing packages\n",
    "import pandas as pd\n",
    "import seaborn as sns\n",
    "import numpy as np\n",
    "import matplotlib.pyplot as plt\n",
    "from sklearn.model_selection import train_test_split\n",
    "from sklearn.linear_model import LogisticRegression\n",
    "from sklearn.metrics import confusion_matrix\n",
    "from sklearn.metrics import classification_report\n",
    "from sklearn.metrics import roc_auc_score\n",
    "from sklearn.metrics import roc_curve\n",
    "from sklearn.preprocessing import LabelEncoder \n",
    "from sklearn.ensemble import RandomForestRegressor\n",
    "df = pd.read_csv('hotel_bookings.csv')"
   ]
  },
  {
   "cell_type": "markdown",
   "metadata": {},
   "source": [
    "## EDA\n"
   ]
  },
  {
   "cell_type": "code",
   "execution_count": 615,
   "metadata": {},
   "outputs": [
    {
     "data": {
      "text/html": [
       "<div>\n",
       "<style scoped>\n",
       "    .dataframe tbody tr th:only-of-type {\n",
       "        vertical-align: middle;\n",
       "    }\n",
       "\n",
       "    .dataframe tbody tr th {\n",
       "        vertical-align: top;\n",
       "    }\n",
       "\n",
       "    .dataframe thead th {\n",
       "        text-align: right;\n",
       "    }\n",
       "</style>\n",
       "<table border=\"1\" class=\"dataframe\">\n",
       "  <thead>\n",
       "    <tr style=\"text-align: right;\">\n",
       "      <th></th>\n",
       "      <th>hotel</th>\n",
       "      <th>is_canceled</th>\n",
       "      <th>lead_time</th>\n",
       "      <th>arrival_date_year</th>\n",
       "      <th>arrival_date_month</th>\n",
       "      <th>arrival_date_week_number</th>\n",
       "      <th>arrival_date_day_of_month</th>\n",
       "      <th>stays_in_weekend_nights</th>\n",
       "      <th>stays_in_week_nights</th>\n",
       "      <th>adults</th>\n",
       "      <th>...</th>\n",
       "      <th>deposit_type</th>\n",
       "      <th>agent</th>\n",
       "      <th>company</th>\n",
       "      <th>days_in_waiting_list</th>\n",
       "      <th>customer_type</th>\n",
       "      <th>adr</th>\n",
       "      <th>required_car_parking_spaces</th>\n",
       "      <th>total_of_special_requests</th>\n",
       "      <th>reservation_status</th>\n",
       "      <th>reservation_status_date</th>\n",
       "    </tr>\n",
       "  </thead>\n",
       "  <tbody>\n",
       "    <tr>\n",
       "      <th>0</th>\n",
       "      <td>Resort Hotel</td>\n",
       "      <td>0</td>\n",
       "      <td>342</td>\n",
       "      <td>2015</td>\n",
       "      <td>July</td>\n",
       "      <td>27</td>\n",
       "      <td>1</td>\n",
       "      <td>0</td>\n",
       "      <td>0</td>\n",
       "      <td>2</td>\n",
       "      <td>...</td>\n",
       "      <td>No Deposit</td>\n",
       "      <td>NaN</td>\n",
       "      <td>NaN</td>\n",
       "      <td>0</td>\n",
       "      <td>Transient</td>\n",
       "      <td>0.0</td>\n",
       "      <td>0</td>\n",
       "      <td>0</td>\n",
       "      <td>Check-Out</td>\n",
       "      <td>2015-07-01</td>\n",
       "    </tr>\n",
       "    <tr>\n",
       "      <th>1</th>\n",
       "      <td>Resort Hotel</td>\n",
       "      <td>0</td>\n",
       "      <td>737</td>\n",
       "      <td>2015</td>\n",
       "      <td>July</td>\n",
       "      <td>27</td>\n",
       "      <td>1</td>\n",
       "      <td>0</td>\n",
       "      <td>0</td>\n",
       "      <td>2</td>\n",
       "      <td>...</td>\n",
       "      <td>No Deposit</td>\n",
       "      <td>NaN</td>\n",
       "      <td>NaN</td>\n",
       "      <td>0</td>\n",
       "      <td>Transient</td>\n",
       "      <td>0.0</td>\n",
       "      <td>0</td>\n",
       "      <td>0</td>\n",
       "      <td>Check-Out</td>\n",
       "      <td>2015-07-01</td>\n",
       "    </tr>\n",
       "    <tr>\n",
       "      <th>2</th>\n",
       "      <td>Resort Hotel</td>\n",
       "      <td>0</td>\n",
       "      <td>7</td>\n",
       "      <td>2015</td>\n",
       "      <td>July</td>\n",
       "      <td>27</td>\n",
       "      <td>1</td>\n",
       "      <td>0</td>\n",
       "      <td>1</td>\n",
       "      <td>1</td>\n",
       "      <td>...</td>\n",
       "      <td>No Deposit</td>\n",
       "      <td>NaN</td>\n",
       "      <td>NaN</td>\n",
       "      <td>0</td>\n",
       "      <td>Transient</td>\n",
       "      <td>75.0</td>\n",
       "      <td>0</td>\n",
       "      <td>0</td>\n",
       "      <td>Check-Out</td>\n",
       "      <td>2015-07-02</td>\n",
       "    </tr>\n",
       "    <tr>\n",
       "      <th>3</th>\n",
       "      <td>Resort Hotel</td>\n",
       "      <td>0</td>\n",
       "      <td>13</td>\n",
       "      <td>2015</td>\n",
       "      <td>July</td>\n",
       "      <td>27</td>\n",
       "      <td>1</td>\n",
       "      <td>0</td>\n",
       "      <td>1</td>\n",
       "      <td>1</td>\n",
       "      <td>...</td>\n",
       "      <td>No Deposit</td>\n",
       "      <td>304.0</td>\n",
       "      <td>NaN</td>\n",
       "      <td>0</td>\n",
       "      <td>Transient</td>\n",
       "      <td>75.0</td>\n",
       "      <td>0</td>\n",
       "      <td>0</td>\n",
       "      <td>Check-Out</td>\n",
       "      <td>2015-07-02</td>\n",
       "    </tr>\n",
       "    <tr>\n",
       "      <th>4</th>\n",
       "      <td>Resort Hotel</td>\n",
       "      <td>0</td>\n",
       "      <td>14</td>\n",
       "      <td>2015</td>\n",
       "      <td>July</td>\n",
       "      <td>27</td>\n",
       "      <td>1</td>\n",
       "      <td>0</td>\n",
       "      <td>2</td>\n",
       "      <td>2</td>\n",
       "      <td>...</td>\n",
       "      <td>No Deposit</td>\n",
       "      <td>240.0</td>\n",
       "      <td>NaN</td>\n",
       "      <td>0</td>\n",
       "      <td>Transient</td>\n",
       "      <td>98.0</td>\n",
       "      <td>0</td>\n",
       "      <td>1</td>\n",
       "      <td>Check-Out</td>\n",
       "      <td>2015-07-03</td>\n",
       "    </tr>\n",
       "  </tbody>\n",
       "</table>\n",
       "<p>5 rows × 32 columns</p>\n",
       "</div>"
      ],
      "text/plain": [
       "          hotel  is_canceled  lead_time  arrival_date_year arrival_date_month  \\\n",
       "0  Resort Hotel            0        342               2015               July   \n",
       "1  Resort Hotel            0        737               2015               July   \n",
       "2  Resort Hotel            0          7               2015               July   \n",
       "3  Resort Hotel            0         13               2015               July   \n",
       "4  Resort Hotel            0         14               2015               July   \n",
       "\n",
       "   arrival_date_week_number  arrival_date_day_of_month  \\\n",
       "0                        27                          1   \n",
       "1                        27                          1   \n",
       "2                        27                          1   \n",
       "3                        27                          1   \n",
       "4                        27                          1   \n",
       "\n",
       "   stays_in_weekend_nights  stays_in_week_nights  adults  ...  deposit_type  \\\n",
       "0                        0                     0       2  ...    No Deposit   \n",
       "1                        0                     0       2  ...    No Deposit   \n",
       "2                        0                     1       1  ...    No Deposit   \n",
       "3                        0                     1       1  ...    No Deposit   \n",
       "4                        0                     2       2  ...    No Deposit   \n",
       "\n",
       "   agent company days_in_waiting_list customer_type   adr  \\\n",
       "0    NaN     NaN                    0     Transient   0.0   \n",
       "1    NaN     NaN                    0     Transient   0.0   \n",
       "2    NaN     NaN                    0     Transient  75.0   \n",
       "3  304.0     NaN                    0     Transient  75.0   \n",
       "4  240.0     NaN                    0     Transient  98.0   \n",
       "\n",
       "   required_car_parking_spaces  total_of_special_requests  reservation_status  \\\n",
       "0                            0                          0           Check-Out   \n",
       "1                            0                          0           Check-Out   \n",
       "2                            0                          0           Check-Out   \n",
       "3                            0                          0           Check-Out   \n",
       "4                            0                          1           Check-Out   \n",
       "\n",
       "  reservation_status_date  \n",
       "0              2015-07-01  \n",
       "1              2015-07-01  \n",
       "2              2015-07-02  \n",
       "3              2015-07-02  \n",
       "4              2015-07-03  \n",
       "\n",
       "[5 rows x 32 columns]"
      ]
     },
     "execution_count": 615,
     "metadata": {},
     "output_type": "execute_result"
    }
   ],
   "source": [
    "df.head()"
   ]
  },
  {
   "cell_type": "code",
   "execution_count": 616,
   "metadata": {},
   "outputs": [
    {
     "name": "stdout",
     "output_type": "stream",
     "text": [
      "<class 'pandas.core.frame.DataFrame'>\n",
      "RangeIndex: 119390 entries, 0 to 119389\n",
      "Data columns (total 32 columns):\n",
      "hotel                             119390 non-null object\n",
      "is_canceled                       119390 non-null int64\n",
      "lead_time                         119390 non-null int64\n",
      "arrival_date_year                 119390 non-null int64\n",
      "arrival_date_month                119390 non-null object\n",
      "arrival_date_week_number          119390 non-null int64\n",
      "arrival_date_day_of_month         119390 non-null int64\n",
      "stays_in_weekend_nights           119390 non-null int64\n",
      "stays_in_week_nights              119390 non-null int64\n",
      "adults                            119390 non-null int64\n",
      "children                          119386 non-null float64\n",
      "babies                            119390 non-null int64\n",
      "meal                              119390 non-null object\n",
      "country                           118902 non-null object\n",
      "market_segment                    119390 non-null object\n",
      "distribution_channel              119390 non-null object\n",
      "is_repeated_guest                 119390 non-null int64\n",
      "previous_cancellations            119390 non-null int64\n",
      "previous_bookings_not_canceled    119390 non-null int64\n",
      "reserved_room_type                119390 non-null object\n",
      "assigned_room_type                119390 non-null object\n",
      "booking_changes                   119390 non-null int64\n",
      "deposit_type                      119390 non-null object\n",
      "agent                             103050 non-null float64\n",
      "company                           6797 non-null float64\n",
      "days_in_waiting_list              119390 non-null int64\n",
      "customer_type                     119390 non-null object\n",
      "adr                               119390 non-null float64\n",
      "required_car_parking_spaces       119390 non-null int64\n",
      "total_of_special_requests         119390 non-null int64\n",
      "reservation_status                119390 non-null object\n",
      "reservation_status_date           119390 non-null object\n",
      "dtypes: float64(4), int64(16), object(12)\n",
      "memory usage: 29.1+ MB\n"
     ]
    }
   ],
   "source": [
    "df.info()"
   ]
  },
  {
   "cell_type": "markdown",
   "metadata": {},
   "source": [
    "First of all, let us see how much money hotels presented in the dataset lost because of cancellation. Before I calculate it, I sum up the number of stays in week nights and stays in weekend noghts to calculate the total numder of stays in nights (and correspondingly drop the two variables from the dataframe)."
   ]
  },
  {
   "cell_type": "code",
   "execution_count": 617,
   "metadata": {},
   "outputs": [
    {
     "name": "stdout",
     "output_type": "stream",
     "text": [
      "forgone revenue % in resort hotels: 0.33\n",
      "number of canceled bookings % in resort hotels: 0.28\n",
      "forgone revenue % in city hotels: 0.43\n",
      "number of canceled bookings % in city hotels: 0.42\n"
     ]
    }
   ],
   "source": [
    "df['days_of_stay'] = df['stays_in_week_nights'] + df['stays_in_weekend_nights']\n",
    "df.drop(columns = ['stays_in_week_nights', 'stays_in_weekend_nights'], inplace = True)\n",
    "df['revenue'] = df['days_of_stay']*df['adr']\n",
    "canceled_resort = df[(df['is_canceled'] == 1) & (df['hotel'] =='Resort Hotel')]['revenue'].sum()/df[df['hotel'] =='Resort Hotel']['revenue'].sum()\n",
    "canceled_city = df[(df['is_canceled'] == 1) &(df['hotel'] =='City Hotel')]['revenue'].sum()/df[df['hotel'] =='City Hotel']['revenue'].sum()\n",
    "qty_resort = df[(df['hotel'] =='Resort Hotel')]['is_canceled'].sum()/df[df['hotel'] =='Resort Hotel']['is_canceled'].count()\n",
    "qty_city = df[(df['hotel'] =='City Hotel')]['is_canceled'].sum()/df[df['hotel'] =='City Hotel']['is_canceled'].count()\n",
    "print(\"forgone revenue % in resort hotels: \" + str(canceled_resort.round(2)))\n",
    "print(\"number of canceled bookings % in resort hotels: \" + str(qty_resort.round(2)))\n",
    "print(\"forgone revenue % in city hotels: \" + str(canceled_city.round(2)))\n",
    "print(\"number of canceled bookings % in city hotels: \" + str(qty_city.round(2)))"
   ]
  },
  {
   "cell_type": "markdown",
   "metadata": {},
   "source": [
    "The main finding is that hotels loose between 33% and 44% of potential revenue because of cancelations. Another insight is that people tend to cancel bookings more often in city hotels. Probably, because of higher number of options available. "
   ]
  },
  {
   "cell_type": "markdown",
   "metadata": {},
   "source": [
    "Let us explore the customer types. In hospitality industry firms face a tradeoff: leave rooms empty for transient customers or provide rooms to business groups that book rooms in advance. Therefore, it is interesting to know if the cancelation rate varies over the types, and can it be stated that groups are more reliable that transient clients.\n"
   ]
  },
  {
   "cell_type": "code",
   "execution_count": 618,
   "metadata": {},
   "outputs": [
    {
     "data": {
      "text/plain": [
       "<matplotlib.axes._subplots.AxesSubplot at 0x1a1cabea58>"
      ]
     },
     "execution_count": 618,
     "metadata": {},
     "output_type": "execute_result"
    },
    {
     "data": {
      "image/png": "[encoded data removed]",
      "text/plain": [
       "<Figure size 432x288 with 1 Axes>"
      ]
     },
     "metadata": {
      "needs_background": "light"
     },
     "output_type": "display_data"
    }
   ],
   "source": [
    "sns.countplot(df['customer_type'])"
   ]
  },
  {
   "cell_type": "markdown",
   "metadata": {},
   "source": [
    "Another variable that reuests attention is country. Of course, it is possible to create dummy variables, but it is not desirable because of too many countries included. First of all, let us explote if there seem to be any dependency of cancelation rate from country."
   ]
  },
  {
   "cell_type": "markdown",
   "metadata": {},
   "source": [
    "It may be supposed that booked room type is related to the cancelation rate. The room type may be a proxy for the income of the customer."
   ]
  },
  {
   "cell_type": "code",
   "execution_count": null,
   "metadata": {},
   "outputs": [],
   "source": []
  },
  {
   "cell_type": "code",
   "execution_count": 619,
   "metadata": {
    "scrolled": true
   },
   "outputs": [
    {
     "data": {
      "text/plain": [
       "<matplotlib.axes._subplots.AxesSubplot at 0x1a1c981cc0>"
      ]
     },
     "execution_count": 619,
     "metadata": {},
     "output_type": "execute_result"
    },
    {
     "data": {
      "image/png": "[encoded data removed]",
      "text/plain": [
       "<Figure size 432x288 with 2 Axes>"
      ]
     },
     "metadata": {
      "needs_background": "light"
     },
     "output_type": "display_data"
    }
   ],
   "source": [
    "#Share of canceled bookings per room type and meal\n",
    "room_type = df.groupby('reserved_room_type')['is_canceled'].sum()/df.groupby('reserved_room_type')['is_canceled'].count()\n",
    "meal = df.groupby('meal')['is_canceled'].sum()/df.groupby('meal')['is_canceled'].count()\n",
    "plt.subplot(2,1,1)\n",
    "room_type.plot(kind = 'bar')\n",
    "plt.subplot(2,1,2)\n",
    "meal.plot(kind = 'bar')"
   ]
  },
  {
   "cell_type": "markdown",
   "metadata": {},
   "source": [
    "Apperently, room type does not seem to influence cancelation rate, so the variable is not going to be taken into account. The type 'P' has cancelation rate of 1, but this type was booked only 12 times, so it is not worth exploring. As for meal, hotels proposing full board seem to have higher cancelation rate. "
   ]
  },
  {
   "cell_type": "markdown",
   "metadata": {},
   "source": [
    "### Data preprocessing\n",
    "There is a need to tranform categorical variables to a numerical type. Since there are many categories for some features (for exapmple, countries), conversion to dummy variables will result in creating of high-dimensional space, which may harm work of algorithm. Instead, I am using label encoding method with scikit-learn's LabelEncoder. One drawback of the method is that numerical values may be misinterpreted, for instance, if one uses regression. Since the main purpose is to propose a classifier, this is not the issue."
   ]
  },
  {
   "cell_type": "code",
   "execution_count": 620,
   "metadata": {
    "scrolled": true
   },
   "outputs": [],
   "source": [
    "label = LabelEncoder()\n",
    "df['country_code'] = label.fit_transform(df['country'].astype('str'))\n",
    "df['hotel_code'] = label.fit_transform(df['hotel'].astype('str'))\n",
    "df['arrival_date_month_code'] = label.fit_transform(df['arrival_date_month'].astype('str'))\n",
    "df['meal_code'] = label.fit_transform(df['meal'].astype('str'))\n",
    "df['market_segment_code'] = label.fit_transform(df['market_segment'].astype('str'))\n",
    "df['reserved_room_type_code'] = label.fit_transform(df['reserved_room_type'].astype('str'))\n",
    "df['deposit_type_code'] = label.fit_transform(df['deposit_type'].astype('str'))\n",
    "df['customer_type_code'] = label.fit_transform(df['customer_type'].astype('str'))\n",
    "df['distribution_channel_code'] = label.fit_transform(df['distribution_channel'].astype('str'))\n"
   ]
  },
  {
   "cell_type": "markdown",
   "metadata": {},
   "source": [
    "I am creating a new dataframe from the original one with deleted variables that are not relevent, particularly, reservation status and date, because it obviously does not have any causal effect on cancellation rate. Also, I am deleting the column 'company' since it contains mostly null values, so it will have no use, and columns with values transformed to codes. Other variables of concern are month, date and year of arrival that are corelated. It does not really make sense to include year, because the classifier is supposed to make predictions from the future. Between day, week and month I woudl prefer the month, since the it may be supposed that the cancelations may happen during vacations more often."
   ]
  },
  {
   "cell_type": "code",
   "execution_count": 621,
   "metadata": {},
   "outputs": [],
   "source": [
    "clean = df.drop(columns = ['arrival_date_month','arrival_date_week_number','arrival_date_year','arrival_date_day_of_month','reservation_status','distribution_channel','assigned_room_type','previous_bookings_not_canceled', 'reservation_status_date', 'company', 'country', 'hotel','meal', 'market_segment', 'reserved_room_type','deposit_type', 'customer_type', 'revenue'])\n",
    "clean = clean.dropna()\n",
    "\n"
   ]
  },
  {
   "cell_type": "markdown",
   "metadata": {},
   "source": [
    "Further, I am checking pairwise relation between variables in order to make sure that I will not face a probem of multicollinearity and get overall picture of how the variables are interrelated. If there is correlation between any two variables and it cannot be safely ignored, I will exclude of the them from the data set. To detect the pairs of correlated varables, I am using the heatmap."
   ]
  },
  {
   "cell_type": "code",
   "execution_count": 622,
   "metadata": {
    "scrolled": false
   },
   "outputs": [
    {
     "data": {
      "text/plain": [
       "<matplotlib.axes._subplots.AxesSubplot at 0x1a21dd2518>"
      ]
     },
     "execution_count": 622,
     "metadata": {},
     "output_type": "execute_result"
    },
    {
     "data": {
      "image/png": "[encoded data removed]",
      "text/plain": [
       "<Figure size 504x360 with 2 Axes>"
      ]
     },
     "metadata": {
      "needs_background": "light"
     },
     "output_type": "display_data"
    }
   ],
   "source": [
    "corr = clean.corr()\n",
    "fig, ax = plt.subplots(figsize = (7,5))\n",
    "sns.heatmap(corr)\n"
   ]
  },
  {
   "cell_type": "markdown",
   "metadata": {},
   "source": [
    "From the heatmap, it is seen that the distribution channel and maker segment are intercorrelated. The latter variable is at the same time related to deposit tye and number of special requests, so it make sense to drop it to avoid multicollinearity issue. I am dropping the agent as well, since it meems to be related to the hotel type. Resrved room type correlates with adr, which is quite logical, so it does not make sense to keen both variables. I will exclude the type.\n"
   ]
  },
  {
   "cell_type": "code",
   "execution_count": 623,
   "metadata": {},
   "outputs": [],
   "source": [
    "clean.drop(columns = ['market_segment_code', 'agent', 'reserved_room_type_code'], inplace = True)"
   ]
  },
  {
   "cell_type": "code",
   "execution_count": 624,
   "metadata": {},
   "outputs": [
    {
     "data": {
      "text/plain": [
       "<matplotlib.axes._subplots.AxesSubplot at 0x1a575424e0>"
      ]
     },
     "execution_count": 624,
     "metadata": {},
     "output_type": "execute_result"
    },
    {
     "data": {
      "image/png": "[encoded data removed]",
      "text/plain": [
       "<Figure size 504x360 with 2 Axes>"
      ]
     },
     "metadata": {
      "needs_background": "light"
     },
     "output_type": "display_data"
    }
   ],
   "source": [
    "corr = clean.corr()\n",
    "fig, ax = plt.subplots(figsize=(7,5))\n",
    "sns.heatmap(corr, ax = ax)\n"
   ]
  },
  {
   "cell_type": "markdown",
   "metadata": {},
   "source": [
    "From the above dataframe I am extracting the dependent variable and the explanatory ones: y and x."
   ]
  },
  {
   "cell_type": "code",
   "execution_count": 625,
   "metadata": {},
   "outputs": [],
   "source": [
    "y = clean['is_canceled']\n",
    "x = clean.iloc[:, 1:]"
   ]
  },
  {
   "cell_type": "markdown",
   "metadata": {},
   "source": [
    "The dataset contains a lot of variables, and it is important to exclude the ones that have litle influence on the cancellation rate. For that purpose I am using the Extra Trees Classifier from scikit-learn that will rank the variables by their importance."
   ]
  },
  {
   "cell_type": "code",
   "execution_count": 626,
   "metadata": {
    "scrolled": true
   },
   "outputs": [
    {
     "name": "stderr",
     "output_type": "stream",
     "text": [
      "/Users/sofya/anaconda3/lib/python3.7/site-packages/sklearn/ensemble/forest.py:245: FutureWarning: The default value of n_estimators will change from 10 in version 0.20 to 100 in 0.22.\n",
      "  \"10 in version 0.20 to 100 in 0.22.\", FutureWarning)\n"
     ]
    },
    {
     "data": {
      "text/html": [
       "<div>\n",
       "<style scoped>\n",
       "    .dataframe tbody tr th:only-of-type {\n",
       "        vertical-align: middle;\n",
       "    }\n",
       "\n",
       "    .dataframe tbody tr th {\n",
       "        vertical-align: top;\n",
       "    }\n",
       "\n",
       "    .dataframe thead th {\n",
       "        text-align: right;\n",
       "    }\n",
       "</style>\n",
       "<table border=\"1\" class=\"dataframe\">\n",
       "  <thead>\n",
       "    <tr style=\"text-align: right;\">\n",
       "      <th></th>\n",
       "      <th>0</th>\n",
       "    </tr>\n",
       "  </thead>\n",
       "  <tbody>\n",
       "    <tr>\n",
       "      <th>lead_time</th>\n",
       "      <td>0.175690</td>\n",
       "    </tr>\n",
       "    <tr>\n",
       "      <th>country_code</th>\n",
       "      <td>0.152545</td>\n",
       "    </tr>\n",
       "    <tr>\n",
       "      <th>adr</th>\n",
       "      <td>0.138175</td>\n",
       "    </tr>\n",
       "    <tr>\n",
       "      <th>deposit_type_code</th>\n",
       "      <td>0.120045</td>\n",
       "    </tr>\n",
       "    <tr>\n",
       "      <th>days_of_stay</th>\n",
       "      <td>0.075356</td>\n",
       "    </tr>\n",
       "    <tr>\n",
       "      <th>total_of_special_requests</th>\n",
       "      <td>0.070667</td>\n",
       "    </tr>\n",
       "    <tr>\n",
       "      <th>arrival_date_month_code</th>\n",
       "      <td>0.069699</td>\n",
       "    </tr>\n",
       "    <tr>\n",
       "      <th>customer_type_code</th>\n",
       "      <td>0.036068</td>\n",
       "    </tr>\n",
       "    <tr>\n",
       "      <th>booking_changes</th>\n",
       "      <td>0.025641</td>\n",
       "    </tr>\n",
       "    <tr>\n",
       "      <th>previous_cancellations</th>\n",
       "      <td>0.024339</td>\n",
       "    </tr>\n",
       "    <tr>\n",
       "      <th>required_car_parking_spaces</th>\n",
       "      <td>0.023931</td>\n",
       "    </tr>\n",
       "    <tr>\n",
       "      <th>meal_code</th>\n",
       "      <td>0.020935</td>\n",
       "    </tr>\n",
       "    <tr>\n",
       "      <th>adults</th>\n",
       "      <td>0.020710</td>\n",
       "    </tr>\n",
       "    <tr>\n",
       "      <th>distribution_channel_code</th>\n",
       "      <td>0.012982</td>\n",
       "    </tr>\n",
       "    <tr>\n",
       "      <th>children</th>\n",
       "      <td>0.012379</td>\n",
       "    </tr>\n",
       "    <tr>\n",
       "      <th>hotel_code</th>\n",
       "      <td>0.012007</td>\n",
       "    </tr>\n",
       "    <tr>\n",
       "      <th>days_in_waiting_list</th>\n",
       "      <td>0.004686</td>\n",
       "    </tr>\n",
       "    <tr>\n",
       "      <th>is_repeated_guest</th>\n",
       "      <td>0.002639</td>\n",
       "    </tr>\n",
       "    <tr>\n",
       "      <th>babies</th>\n",
       "      <td>0.001506</td>\n",
       "    </tr>\n",
       "  </tbody>\n",
       "</table>\n",
       "</div>"
      ],
      "text/plain": [
       "                                    0\n",
       "lead_time                    0.175690\n",
       "country_code                 0.152545\n",
       "adr                          0.138175\n",
       "deposit_type_code            0.120045\n",
       "days_of_stay                 0.075356\n",
       "total_of_special_requests    0.070667\n",
       "arrival_date_month_code      0.069699\n",
       "customer_type_code           0.036068\n",
       "booking_changes              0.025641\n",
       "previous_cancellations       0.024339\n",
       "required_car_parking_spaces  0.023931\n",
       "meal_code                    0.020935\n",
       "adults                       0.020710\n",
       "distribution_channel_code    0.012982\n",
       "children                     0.012379\n",
       "hotel_code                   0.012007\n",
       "days_in_waiting_list         0.004686\n",
       "is_repeated_guest            0.002639\n",
       "babies                       0.001506"
      ]
     },
     "execution_count": 626,
     "metadata": {},
     "output_type": "execute_result"
    }
   ],
   "source": [
    "from sklearn.ensemble import ExtraTreesClassifier\n",
    "extra_trees = ExtraTreesClassifier()\n",
    "extra_trees.fit(x, y)\n",
    "imp = extra_trees.feature_importances_\n",
    "importance = pd.DataFrame(imp,x.columns)\n",
    "importance.sort_values(by = [0], ascending = False)\n",
    "\n"
   ]
  },
  {
   "cell_type": "markdown",
   "metadata": {},
   "source": [
    "From the result above we can see that deporit type, country, lead time, number of special reuests, arrival dates and duration of stay are the most important variables to predict the cancelation rate. It makes sense to get rid of not important variables, since they may cause overfitting of the classifier. I drop the variables with importance level less than 1%. "
   ]
  },
  {
   "cell_type": "code",
   "execution_count": 627,
   "metadata": {},
   "outputs": [],
   "source": [
    "x.drop(columns = ['babies', 'days_in_waiting_list', 'is_repeated_guest', 'distribution_channel_code', 'children'], inplace = True)\n",
    "\n"
   ]
  },
  {
   "cell_type": "markdown",
   "metadata": {},
   "source": [
    "Further I am going to implement several classifiers to predict if a booking will be cancelled or not, and select the best one to use.\n",
    "# Logistic regression\n"
   ]
  },
  {
   "cell_type": "code",
   "execution_count": 628,
   "metadata": {},
   "outputs": [
    {
     "name": "stderr",
     "output_type": "stream",
     "text": [
      "/Users/sofya/anaconda3/lib/python3.7/site-packages/sklearn/linear_model/logistic.py:432: FutureWarning: Default solver will be changed to 'lbfgs' in 0.22. Specify a solver to silence this warning.\n",
      "  FutureWarning)\n"
     ]
    },
    {
     "name": "stdout",
     "output_type": "stream",
     "text": [
      "Accuracy of logistic regression classifier on the test set is 0.76\n"
     ]
    }
   ],
   "source": [
    "x_train, x_test, y_train, y_test = train_test_split(x, y, test_size = 0.3 , random_state = 0)\n",
    "logreg = LogisticRegression()\n",
    "logreg.fit(x_train, y_train)\n",
    "y_pred = logreg.predict(x_test)\n",
    "print (\"Accuracy of logistic regression classifier on the test set is \" + \"{:.2f}\".format(logreg.score(x_test, y_test)))\n"
   ]
  },
  {
   "cell_type": "markdown",
   "metadata": {},
   "source": [
    "Now let us take a look at the confusion matrix and classification report to see the precision and recall.\n"
   ]
  },
  {
   "cell_type": "code",
   "execution_count": 629,
   "metadata": {},
   "outputs": [
    {
     "name": "stdout",
     "output_type": "stream",
     "text": [
      "[[17544  1280]\n",
      " [ 6008  6083]]\n"
     ]
    }
   ],
   "source": [
    "conf_m = confusion_matrix(y_test, y_pred)\n",
    "print(conf_m)"
   ]
  },
  {
   "cell_type": "code",
   "execution_count": 630,
   "metadata": {},
   "outputs": [
    {
     "name": "stdout",
     "output_type": "stream",
     "text": [
      "              precision    recall  f1-score   support\n",
      "\n",
      "           0       0.74      0.93      0.83     18824\n",
      "           1       0.83      0.50      0.63     12091\n",
      "\n",
      "    accuracy                           0.76     30915\n",
      "   macro avg       0.79      0.72      0.73     30915\n",
      "weighted avg       0.78      0.76      0.75     30915\n",
      "\n"
     ]
    }
   ],
   "source": [
    "print(classification_report(y_test, y_pred))"
   ]
  },
  {
   "cell_type": "markdown",
   "metadata": {},
   "source": [
    "The precision if the ration of true postive to the total number of positives, which reflects the ability of the model not to classify not cancelled bookings as cancelled. The recall is the ratio of true positives to the sum of true positives and false negatives, which shows the ability of classifier to find all the cancelled bookings.\n",
    "\n",
    "The classifier manages to distinguish between the cancelled bookings and not cancelled well (83% of precision), but in 50% of cases the cancelled bookings were not identified as cancelled (the recall of 50%)."
   ]
  },
  {
   "cell_type": "code",
   "execution_count": 632,
   "metadata": {},
   "outputs": [
    {
     "data": {
      "text/plain": [
       "0    75166\n",
       "1    44224\n",
       "Name: is_canceled, dtype: int64"
      ]
     },
     "execution_count": 632,
     "metadata": {},
     "output_type": "execute_result"
    }
   ],
   "source": [
    "df['is_canceled'].value_counts()"
   ]
  },
  {
   "cell_type": "code",
   "execution_count": null,
   "metadata": {},
   "outputs": [],
   "source": []
  },
  {
   "cell_type": "code",
   "execution_count": null,
   "metadata": {},
   "outputs": [],
   "source": []
  }
 ],
 "metadata": {
  "kernelspec": {
   "display_name": "Python 3",
   "language": "python",
   "name": "python3"
  },
  "language_info": {
   "codemirror_mode": {
    "name": "ipython",
    "version": 3
   },
   "file_extension": ".py",
   "mimetype": "text/x-python",
   "name": "python",
   "nbconvert_exporter": "python",
   "pygments_lexer": "ipython3",
   "version": "3.7.3"
  }
 },
 "nbformat": 4,
 "nbformat_minor": 2
}
